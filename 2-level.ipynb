{
 "cells": [
  {
   "cell_type": "markdown",
   "metadata": {},
   "source": [
    "## camp3_70\n",
    "\n"
   ]
  },
  {
   "cell_type": "code",
   "execution_count": null,
   "metadata": {},
   "outputs": [],
   "source": [
    "[大家可以叫]: 加钱居士\n",
    "[坐标]: 上海\n",
    "[职业]: Devops\n",
    "[兴趣爱好]: 躺\n",
    "[项目技能]: 刚接触AI\n",
    "[组队情况]: 未组队\n",
    "[本课程学习基础]: 参加过2期学习\n",
    "[本期活动目标]: 学习学习"
   ]
  },
  {
   "cell_type": "code",
   "execution_count": null,
   "metadata": {},
   "outputs": [],
   "source": []
  }
 ],
 "metadata": {
  "language_info": {
   "name": "python"
  }
 },
 "nbformat": 4,
 "nbformat_minor": 2
}
